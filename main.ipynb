{
 "cells": [
  {
   "cell_type": "code",
   "execution_count": 1,
   "id": "5a906651",
   "metadata": {},
   "outputs": [],
   "source": [
    "import tkinter as tk\n",
    "import sys\n",
    "sys.setrecursionlimit(10**6)\n",
    "\n",
    "def first_and_follow():\n",
    "    execfile(\"First and Follow.py\")\n",
    "    \n",
    "def regular_expression():\n",
    "    execfile(\"Regular Expression.py\")\n",
    "\n",
    "def ll0():\n",
    "    execfile(\"LL(0).py\")\n",
    "def lr1():\n",
    "    execfile(\"LR(1).py\")\n",
    "def slr():\n",
    "    execfile(\"SLR.py\")\n"
   ]
  },
  {
   "cell_type": "code",
   "execution_count": null,
   "id": "5bd929a1",
   "metadata": {},
   "outputs": [],
   "source": [
    "mainwindow =tk.Tk()\n",
    "w_width=w_height=600\n",
    "canvas=tk.Canvas(mainwindow,width=w_width,height=250,bg='light gray')\n",
    "canvas.grid(columnspan=3,rowspan=5)\n",
    "mainwindow.title(\"Compiler  Project\")\n",
    "\n",
    "# mainwindow.attributes('-topmost',True)\n",
    "# tk.Label(mainwindow,text=\"FA18-BCS-010\",bg='dark gray',font='Helvetica 18 bold').grid(column=0,row=5)\n",
    "# tk.Label(mainwindow,text=\"FA18-BCS-042\",bg='dark gray',font='Helvetica 18 bold').grid(column=1,row=5)\n",
    "# tk.Label(mainwindow,text=\"FA18-BCS-050\",bg='dark gray',font='Helvetica 18 bold').grid(column=2,row=5)\n",
    "\n",
    "tk.Button(mainwindow,text=\"LL(0)\",font='Helvetica 13 bold',bg='pink',command=ll0).grid(row=2,column=0)\n",
    "tk.Button(mainwindow,text=\"SLR(1)\",font='Helvetica 13 bold',bg='pink',command=slr).grid(row=2,column=2)\n",
    "tk.Button(mainwindow,text=\"LR(1)\",font='Helvetica 13 bold',bg='pink',command=lr1).grid(row=2,column=1)\n",
    "tk.Button(mainwindow,text=\"First and Follow\",font='Helvetica 13 bold',bg='pink',command=first_and_follow).grid(row=3,column=1)\n",
    "tk.Button(mainwindow,text=\"Pass Regular Expression\",font='Helvetica 13 bold',bg='pink',command=regular_expression).grid(row=4,column=1)\n",
    "\n",
    "mainwindow.mainloop()\n"
   ]
  },
  {
   "cell_type": "code",
   "execution_count": null,
   "id": "1481cd7f",
   "metadata": {},
   "outputs": [],
   "source": []
  },
  {
   "cell_type": "code",
   "execution_count": null,
   "id": "f5f9851a",
   "metadata": {},
   "outputs": [],
   "source": []
  },
  {
   "cell_type": "code",
   "execution_count": null,
   "id": "07d008ff",
   "metadata": {},
   "outputs": [],
   "source": []
  }
 ],
 "metadata": {
  "kernelspec": {
   "display_name": "Python 3 (ipykernel)",
   "language": "python",
   "name": "python3"
  },
  "language_info": {
   "codemirror_mode": {
    "name": "ipython",
    "version": 3
   },
   "file_extension": ".py",
   "mimetype": "text/x-python",
   "name": "python",
   "nbconvert_exporter": "python",
   "pygments_lexer": "ipython3",
   "version": "3.9.7"
  }
 },
 "nbformat": 4,
 "nbformat_minor": 5
}
