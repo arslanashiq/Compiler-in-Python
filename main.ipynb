{
 "cells": [
  {
   "cell_type": "code",
   "execution_count": 5,
   "id": "5a906651",
   "metadata": {},
   "outputs": [],
   "source": [
    "import tkinter as tk\n",
    "import sys\n",
    "sys.setrecursionlimit(10**6)\n",
    "\n",
    "def first_and_follow():\n",
    "    execfile(\"First and Follow.py\")\n",
    "    \n",
    "def regular_expression():\n",
    "    execfile(\"Regular Expression.py\")"
   ]
  },
  {
   "cell_type": "code",
   "execution_count": 4,
   "id": "5bd929a1",
   "metadata": {},
   "outputs": [],
   "source": [
    "mainwindow =tk.Tk()\n",
    "w_width=w_height=600\n",
    "canvas=tk.Canvas(mainwindow,width=w_width,height=250,bg='light gray')\n",
    "canvas.grid(columnspan=3,rowspan=5)\n",
    "mainwindow.title(\"Compiler\")\n",
    "\n",
    "# mainwindow.attributes('-topmost',True)\n",
    "faf=tk.Button(mainwindow,text=\"First and Follow\",font='Helvetica 13 bold',bg='dark gray',command=first_and_follow).grid(row=2,column=1)\n",
    "r_e=tk.Button(mainwindow,text=\"Pass Regular Expression\",font='Helvetica 13 bold',bg='dark gray',command=regular_expression).grid(row=3,column=1)\n",
    "\n",
    "mainwindow.mainloop()\n"
   ]
  },
  {
   "cell_type": "code",
   "execution_count": null,
   "id": "1481cd7f",
   "metadata": {},
   "outputs": [],
   "source": []
  },
  {
   "cell_type": "code",
   "execution_count": null,
   "id": "f5f9851a",
   "metadata": {},
   "outputs": [],
   "source": []
  },
  {
   "cell_type": "code",
   "execution_count": null,
   "id": "07d008ff",
   "metadata": {},
   "outputs": [],
   "source": []
  }
 ],
 "metadata": {
  "kernelspec": {
   "display_name": "Python 3 (ipykernel)",
   "language": "python",
   "name": "python3"
  },
  "language_info": {
   "codemirror_mode": {
    "name": "ipython",
    "version": 3
   },
   "file_extension": ".py",
   "mimetype": "text/x-python",
   "name": "python",
   "nbconvert_exporter": "python",
   "pygments_lexer": "ipython3",
   "version": "3.9.7"
  }
 },
 "nbformat": 4,
 "nbformat_minor": 5
}
